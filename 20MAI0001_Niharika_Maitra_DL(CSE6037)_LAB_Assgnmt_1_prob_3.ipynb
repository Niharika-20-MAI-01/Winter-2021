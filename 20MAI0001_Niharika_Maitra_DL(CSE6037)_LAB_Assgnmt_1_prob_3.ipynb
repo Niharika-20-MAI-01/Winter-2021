{
  "nbformat": 4,
  "nbformat_minor": 0,
  "metadata": {
    "colab": {
      "name": "20MAI0001_Niharika-Maitra_DL(CSE6037)-LAB_Assgnmt-1_prob-3.ipynb",
      "provenance": [],
      "collapsed_sections": [],
      "authorship_tag": "ABX9TyPVM0Ok+TsqDf82RkaqwmR5",
      "include_colab_link": true
    },
    "kernelspec": {
      "name": "python3",
      "display_name": "Python 3"
    },
    "accelerator": "GPU"
  },
  "cells": [
    {
      "cell_type": "markdown",
      "metadata": {
        "id": "view-in-github",
        "colab_type": "text"
      },
      "source": [
        "<a href=\"https://colab.research.google.com/github/Niharika-20-MAI-01/Winter-2021/blob/main/20MAI0001_Niharika_Maitra_DL(CSE6037)_LAB_Assgnmt_1_prob_3.ipynb\" target=\"_parent\"><img src=\"https://colab.research.google.com/assets/colab-badge.svg\" alt=\"Open In Colab\"/></a>"
      ]
    },
    {
      "cell_type": "code",
      "metadata": {
        "colab": {
          "base_uri": "https://localhost:8080/"
        },
        "id": "iC0V1VOZDf14",
        "outputId": "d42dc72e-7bec-476e-80e8-da2da0472fcc"
      },
      "source": [
        "\r\n",
        "from google.colab import drive\r\n",
        "drive.mount('/content/drive')"
      ],
      "execution_count": null,
      "outputs": [
        {
          "output_type": "stream",
          "text": [
            "Mounted at /content/drive\n"
          ],
          "name": "stdout"
        }
      ]
    },
    {
      "cell_type": "code",
      "metadata": {
        "id": "TGeDR5KSHiCr",
        "colab": {
          "base_uri": "https://localhost:8080/"
        },
        "outputId": "0de63307-2999-44fb-8654-661dd197e310"
      },
      "source": [
        "#!unzip -uq \"/content/drive/My Drive/BT-ds.zip\" -d \"/content/driveMy Drive/BT-sol\"\r\n",
        "#!unzip BT-ds\r\n",
        "!unzip -uq \"/content/drive/My Drive/BT-ds.zip\"\r\n",
        "!ls \"/content/BT-ds\""
      ],
      "execution_count": null,
      "outputs": [
        {
          "output_type": "stream",
          "text": [
            "'no 10.jpg'  'no 7.jpeg'   'no 94.jpg'\t Y13.jpg    Y20.jpg    Y28.jpg\n",
            "'no 3.jpg'   'no 89.jpg'   'no 97.jpg'\t Y14.jpg    Y243.JPG   Y34.jpg\n",
            "'no 4.jpg'   'no 91.jpeg'  'no 98.jpg'\t Y15.jpg    Y247.JPG   Y65.JPG\n",
            "'no 5.jpeg'  'no 923.jpg'  'no 99.jpg'\t Y192.JPG   Y250.jpg   Y7.jpg\n",
            "'no 6.jpg'   'no 92.jpg'    no.jpg\t Y1.jpg     Y253.JPG   Y8.jpg\n"
          ],
          "name": "stdout"
        }
      ]
    },
    {
      "cell_type": "code",
      "metadata": {
        "id": "vVS4v3BGwZGC"
      },
      "source": [
        "#import PIL\r\n",
        "#x = np.array([np.array(Image.open())])"
      ],
      "execution_count": null,
      "outputs": []
    },
    {
      "cell_type": "code",
      "metadata": {
        "id": "bK0lO5ugwZR7"
      },
      "source": [
        "import zipfile  # unziping \r\n",
        "import glob  # finding image paths\r\n",
        "import numpy as np  # creating numpy arrays\r\n",
        "from skimage.io import imread  # reading images\r\n",
        "from skimage.transform import resize  # resizing images"
      ],
      "execution_count": null,
      "outputs": []
    },
    {
      "cell_type": "code",
      "metadata": {
        "id": "5yQb1VQjwZad"
      },
      "source": [
        "path = '/content/drive/My Drive/BT-ds.zip'\r\n",
        "with zipfile.ZipFile(path, 'r') as zip_ref:\r\n",
        "    zip_ref.extractall('/content/BT-ds')"
      ],
      "execution_count": null,
      "outputs": []
    },
    {
      "cell_type": "code",
      "metadata": {
        "id": "kiKV_Py5wZgu"
      },
      "source": [
        "#img_list = sorted(glob.glob('/content/BT-ds/*.png'))\r\n",
        "import glob\r\n",
        "filelist = glob.glob('/content/BT-ds/*.png')"
      ],
      "execution_count": 53,
      "outputs": []
    },
    {
      "cell_type": "code",
      "metadata": {
        "id": "t0a6DSMJwZl6"
      },
      "source": [
        "#IMG_SIZE = 256 #(image resolution of 256 x 256 used for example)\r\n",
        "#x_data = np.array((len(img_list), IMG_SIZE, IMG_SIZE, 1), dtype=np.float32)\r\n",
        "x = np.array([np.array(Image.open(fname)) for fname in filelist])"
      ],
      "execution_count": 54,
      "outputs": []
    },
    {
      "cell_type": "code",
      "metadata": {
        "id": "8dHtgYT2wZqQ"
      },
      "source": [
        "'''for i, img_path in enumerate(img_list):\r\n",
        "    # read image\r\n",
        "    img = imread(img_path)\r\n",
        "    # resize image (1 channel used for example; 1 for gray-scale, 3 for RGB-scale)\r\n",
        "    img = resize(img, output_shape=(IMG_SIZE, IMG_SIZE, 1), preserve_range=True)\r\n",
        "    # save to numpy array\r\n",
        "    x_data[i] = img"
      ],
      "execution_count": 51,
      "outputs": []
    },
    {
      "cell_type": "code",
      "metadata": {
        "id": "ZR6cXKmawZsI"
      },
      "source": [
        "#for i in x_data:\r\n",
        "#print(x_data)\r\n",
        "#from io import BytesIO\r\n",
        "#import PIL\r\n",
        "#from IPython.display import display, Image\r\n",
        "\r\n",
        "'''import random, os \r\n",
        "for i in range(len(x_data)):\r\n",
        "   ra1 = \"../\"+x_data[i]+\"/\"+random.choice(os.listdir(x_data[i]))\r\n",
        "   image = Image(ra1)\r\n",
        "   display(image)'''"
      ],
      "execution_count": 45,
      "outputs": []
    },
    {
      "cell_type": "code",
      "metadata": {
        "id": "68X8kkAdcXGY"
      },
      "source": [
        "'''def display_img_array(ima):\r\n",
        "    im = PIL.Image.fromarray(ima)\r\n",
        "    bio = BytesIO()\r\n",
        "    im.save(bio, format='jpeg')\r\n",
        "    display(Image(bio.getvalue(), format='jpeg'))"
      ],
      "execution_count": 35,
      "outputs": []
    },
    {
      "cell_type": "code",
      "metadata": {
        "id": "dIG-eSi5cXKw"
      },
      "source": [
        "'''for ima in x_data:\r\n",
        "    display_img_array(ima)"
      ],
      "execution_count": 36,
      "outputs": []
    },
    {
      "cell_type": "code",
      "metadata": {
        "colab": {
          "base_uri": "https://localhost:8080/"
        },
        "id": "QJKFO1rTgXSW",
        "outputId": "ad8bede0-3808-43cd-a091-b22570712706"
      },
      "source": [
        "pip install ipyplot"
      ],
      "execution_count": 47,
      "outputs": [
        {
          "output_type": "stream",
          "text": [
            "Collecting ipyplot\n",
            "  Downloading https://files.pythonhosted.org/packages/c8/2d/ba3031b6945e40ac1137ffb3931528bf4a76f36f0668b6c1879fadac070d/ipyplot-1.1.0-py3-none-any.whl\n",
            "Requirement already satisfied: numpy in /usr/local/lib/python3.6/dist-packages (from ipyplot) (1.19.5)\n",
            "Requirement already satisfied: IPython in /usr/local/lib/python3.6/dist-packages (from ipyplot) (5.5.0)\n",
            "Requirement already satisfied: pillow in /usr/local/lib/python3.6/dist-packages (from ipyplot) (7.0.0)\n",
            "Collecting shortuuid\n",
            "  Downloading https://files.pythonhosted.org/packages/25/a6/2ecc1daa6a304e7f1b216f0896b26156b78e7c38e1211e9b798b4716c53d/shortuuid-1.0.1-py3-none-any.whl\n",
            "Requirement already satisfied: decorator in /usr/local/lib/python3.6/dist-packages (from IPython->ipyplot) (4.4.2)\n",
            "Requirement already satisfied: prompt-toolkit<2.0.0,>=1.0.4 in /usr/local/lib/python3.6/dist-packages (from IPython->ipyplot) (1.0.18)\n",
            "Requirement already satisfied: traitlets>=4.2 in /usr/local/lib/python3.6/dist-packages (from IPython->ipyplot) (4.3.3)\n",
            "Requirement already satisfied: pexpect; sys_platform != \"win32\" in /usr/local/lib/python3.6/dist-packages (from IPython->ipyplot) (4.8.0)\n",
            "Requirement already satisfied: pygments in /usr/local/lib/python3.6/dist-packages (from IPython->ipyplot) (2.6.1)\n",
            "Requirement already satisfied: setuptools>=18.5 in /usr/local/lib/python3.6/dist-packages (from IPython->ipyplot) (53.0.0)\n",
            "Requirement already satisfied: simplegeneric>0.8 in /usr/local/lib/python3.6/dist-packages (from IPython->ipyplot) (0.8.1)\n",
            "Requirement already satisfied: pickleshare in /usr/local/lib/python3.6/dist-packages (from IPython->ipyplot) (0.7.5)\n",
            "Requirement already satisfied: six>=1.9.0 in /usr/local/lib/python3.6/dist-packages (from prompt-toolkit<2.0.0,>=1.0.4->IPython->ipyplot) (1.15.0)\n",
            "Requirement already satisfied: wcwidth in /usr/local/lib/python3.6/dist-packages (from prompt-toolkit<2.0.0,>=1.0.4->IPython->ipyplot) (0.2.5)\n",
            "Requirement already satisfied: ipython-genutils in /usr/local/lib/python3.6/dist-packages (from traitlets>=4.2->IPython->ipyplot) (0.2.0)\n",
            "Requirement already satisfied: ptyprocess>=0.5 in /usr/local/lib/python3.6/dist-packages (from pexpect; sys_platform != \"win32\"->IPython->ipyplot) (0.7.0)\n",
            "Installing collected packages: shortuuid, ipyplot\n",
            "Successfully installed ipyplot-1.1.0 shortuuid-1.0.1\n"
          ],
          "name": "stdout"
        }
      ]
    },
    {
      "cell_type": "code",
      "metadata": {
        "colab": {
          "base_uri": "https://localhost:8080/",
          "height": 358
        },
        "id": "eiqPC_OrcXNm",
        "outputId": "4a9154e6-caa4-4c25-a3f1-091e733f39ff"
      },
      "source": [
        "import ipyplot\r\n",
        "\r\n",
        "ipyplot.plot_images(x, max_images=30, img_width=100)"
      ],
      "execution_count": 55,
      "outputs": [
        {
          "output_type": "error",
          "ename": "IndexError",
          "evalue": "ignored",
          "traceback": [
            "\u001b[0;31m---------------------------------------------------------------------------\u001b[0m",
            "\u001b[0;31mIndexError\u001b[0m                                Traceback (most recent call last)",
            "\u001b[0;32m<ipython-input-55-41150c626ef5>\u001b[0m in \u001b[0;36m<module>\u001b[0;34m()\u001b[0m\n\u001b[1;32m      1\u001b[0m \u001b[0;32mimport\u001b[0m \u001b[0mipyplot\u001b[0m\u001b[0;34m\u001b[0m\u001b[0;34m\u001b[0m\u001b[0m\n\u001b[1;32m      2\u001b[0m \u001b[0;34m\u001b[0m\u001b[0m\n\u001b[0;32m----> 3\u001b[0;31m \u001b[0mipyplot\u001b[0m\u001b[0;34m.\u001b[0m\u001b[0mplot_images\u001b[0m\u001b[0;34m(\u001b[0m\u001b[0mx\u001b[0m\u001b[0;34m,\u001b[0m \u001b[0mmax_images\u001b[0m\u001b[0;34m=\u001b[0m\u001b[0;36m30\u001b[0m\u001b[0;34m,\u001b[0m \u001b[0mimg_width\u001b[0m\u001b[0;34m=\u001b[0m\u001b[0;36m100\u001b[0m\u001b[0;34m)\u001b[0m\u001b[0;34m\u001b[0m\u001b[0;34m\u001b[0m\u001b[0m\n\u001b[0m",
            "\u001b[0;32m/usr/local/lib/python3.6/dist-packages/ipyplot/_plotting.py\u001b[0m in \u001b[0;36mplot_images\u001b[0;34m(images, labels, custom_texts, max_images, img_width, zoom_scale, force_b64)\u001b[0m\n\u001b[1;32m    126\u001b[0m     \"\"\"  # NOQA E501\n\u001b[1;32m    127\u001b[0m \u001b[0;34m\u001b[0m\u001b[0m\n\u001b[0;32m--> 128\u001b[0;31m     \u001b[0mimages\u001b[0m \u001b[0;34m=\u001b[0m \u001b[0m_seq2arr\u001b[0m\u001b[0;34m(\u001b[0m\u001b[0mimages\u001b[0m\u001b[0;34m)\u001b[0m\u001b[0;34m\u001b[0m\u001b[0;34m\u001b[0m\u001b[0m\n\u001b[0m\u001b[1;32m    129\u001b[0m \u001b[0;34m\u001b[0m\u001b[0m\n\u001b[1;32m    130\u001b[0m     \u001b[0;32mif\u001b[0m \u001b[0mlabels\u001b[0m \u001b[0;32mis\u001b[0m \u001b[0;32mNone\u001b[0m\u001b[0;34m:\u001b[0m\u001b[0;34m\u001b[0m\u001b[0;34m\u001b[0m\u001b[0m\n",
            "\u001b[0;32m/usr/local/lib/python3.6/dist-packages/ipyplot/_utils.py\u001b[0m in \u001b[0;36m_seq2arr\u001b[0;34m(seq)\u001b[0m\n\u001b[1;32m     92\u001b[0m     \"\"\"\n\u001b[1;32m     93\u001b[0m     \u001b[0;31m# this is a hack to make the code work with PIL images\u001b[0m\u001b[0;34m\u001b[0m\u001b[0;34m\u001b[0m\u001b[0;34m\u001b[0m\u001b[0m\n\u001b[0;32m---> 94\u001b[0;31m     \u001b[0;32mif\u001b[0m \u001b[0missubclass\u001b[0m\u001b[0;34m(\u001b[0m\u001b[0mtype\u001b[0m\u001b[0;34m(\u001b[0m\u001b[0mseq\u001b[0m\u001b[0;34m[\u001b[0m\u001b[0;36m0\u001b[0m\u001b[0;34m]\u001b[0m\u001b[0;34m)\u001b[0m\u001b[0;34m,\u001b[0m \u001b[0mImage\u001b[0m\u001b[0;34m.\u001b[0m\u001b[0mImage\u001b[0m\u001b[0;34m)\u001b[0m\u001b[0;34m:\u001b[0m\u001b[0;34m\u001b[0m\u001b[0;34m\u001b[0m\u001b[0m\n\u001b[0m\u001b[1;32m     95\u001b[0m         \u001b[0;32mreturn\u001b[0m \u001b[0mnp\u001b[0m\u001b[0;34m.\u001b[0m\u001b[0masarray\u001b[0m\u001b[0;34m(\u001b[0m\u001b[0mseq\u001b[0m\u001b[0;34m,\u001b[0m \u001b[0mdtype\u001b[0m\u001b[0;34m=\u001b[0m\u001b[0mtype\u001b[0m\u001b[0;34m(\u001b[0m\u001b[0mseq\u001b[0m\u001b[0;34m[\u001b[0m\u001b[0;36m0\u001b[0m\u001b[0;34m]\u001b[0m\u001b[0;34m)\u001b[0m\u001b[0;34m)\u001b[0m\u001b[0;34m\u001b[0m\u001b[0;34m\u001b[0m\u001b[0m\n\u001b[1;32m     96\u001b[0m     \u001b[0;32melse\u001b[0m\u001b[0;34m:\u001b[0m\u001b[0;34m\u001b[0m\u001b[0;34m\u001b[0m\u001b[0m\n",
            "\u001b[0;31mIndexError\u001b[0m: index 0 is out of bounds for axis 0 with size 0"
          ]
        }
      ]
    },
    {
      "cell_type": "code",
      "metadata": {
        "id": "r8pJkcPbcXRO"
      },
      "source": [
        "from PIL import image"
      ],
      "execution_count": null,
      "outputs": []
    },
    {
      "cell_type": "code",
      "metadata": {
        "id": "xLE9Euo8cXT5"
      },
      "source": [
        ""
      ],
      "execution_count": null,
      "outputs": []
    },
    {
      "cell_type": "code",
      "metadata": {
        "id": "wJ4mWx2hcXWS"
      },
      "source": [
        ""
      ],
      "execution_count": null,
      "outputs": []
    }
  ]
}